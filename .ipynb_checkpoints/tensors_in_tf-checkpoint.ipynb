{
 "cells": [
  {
   "cell_type": "markdown",
   "metadata": {},
   "source": [
    "## 创建和操控张量\n",
    "**学习内容：**\n",
    " - 创建和操控张量\n",
    " - 线性代数中的加法和乘法\n",
    " - 熟悉tf中数学和数组运算\n"
   ]
  },
  {
   "cell_type": "code",
   "execution_count": 1,
   "metadata": {},
   "outputs": [
    {
     "name": "stderr",
     "output_type": "stream",
     "text": [
      "/Users/kevin/.virtualenvs/py36/lib/python3.6/importlib/_bootstrap.py:219: RuntimeWarning: compiletime version 3.5 of module 'tensorflow.python.framework.fast_tensor_util' does not match runtime version 3.6\n",
      "  return f(*args, **kwds)\n"
     ]
    },
    {
     "name": "stdout",
     "output_type": "stream",
     "text": [
      "TF with eager execution\n"
     ]
    }
   ],
   "source": [
    "import tensorflow as tf\n",
    "try:\n",
    "    tf.contrib.eager.enable_eager_execution()\n",
    "    print(\"TF with eager execution\")\n",
    "except ValueError:\n",
    "    print(\"TF already with eager execution!\")"
   ]
  },
  {
   "cell_type": "markdown",
   "metadata": {},
   "source": [
    "### 矢量加法\n",
    "下面展示了一些常见的数学运算"
   ]
  },
  {
   "cell_type": "code",
   "execution_count": 2,
   "metadata": {},
   "outputs": [
    {
     "name": "stdout",
     "output_type": "stream",
     "text": [
      "Primes:  tf.Tensor([ 2  3  5  7 11 13], shape=(6,), dtype=int32)\n",
      "Ones:  tf.Tensor([1 1 1 1 1 1], shape=(6,), dtype=int32)\n",
      "Primes add one:  tf.Tensor([ 3  4  6  8 12 14], shape=(6,), dtype=int32)\n",
      "Primes doubled:  tf.Tensor([ 4  6 10 14 22 26], shape=(6,), dtype=int32)\n"
     ]
    }
   ],
   "source": [
    "primes = tf.constant([2,3,5,7,11,13], dtype=tf.int32)\n",
    "print(\"Primes: \", primes)\n",
    "ones = tf.ones([6], dtype=tf.int32)\n",
    "print(\"Ones: \", ones)\n",
    "primes_add_one = tf.add(primes, ones)\n",
    "print(\"Primes add one: \", primes_add_one)\n",
    "twos = tf.ones([6], dtype=tf.int32) * 2\n",
    "primes_doubled = primes * twos\n",
    "print(\"Primes doubled: \", primes_doubled)\n",
    "# 输出张量会输出其Numpy值，也会输出它的形状"
   ]
  },
  {
   "cell_type": "code",
   "execution_count": 3,
   "metadata": {},
   "outputs": [
    {
     "name": "stdout",
     "output_type": "stream",
     "text": [
      "scalar has shape:  ()  and numpy value:  0.0\n",
      "vector has shape:  (2,)  and numpy value:  [0. 0.]\n",
      "matrix has shape:  (2, 3)  and numpy value:  [[0. 0. 0.]\n",
      " [0. 0. 0.]]\n"
     ]
    }
   ],
   "source": [
    "scalar = tf.zeros([])\n",
    "vector = tf.zeros([2])\n",
    "matrix = tf.zeros([2,3])\n",
    "print('scalar has shape: ', scalar.get_shape(), ' and numpy value: ', scalar.numpy())\n",
    "print('vector has shape: ', vector.get_shape(), ' and numpy value: ', vector.numpy())\n",
    "print('matrix has shape: ', matrix.get_shape(), ' and numpy value: ', matrix.numpy())"
   ]
  },
  {
   "cell_type": "markdown",
   "metadata": {},
   "source": [
    "TensorFlow支持**广播**，即低维到高维的自扩展到相应的形状"
   ]
  },
  {
   "cell_type": "code",
   "execution_count": 4,
   "metadata": {},
   "outputs": [
    {
     "name": "stdout",
     "output_type": "stream",
     "text": [
      "Primes:  tf.Tensor([ 2  3  5  7 11 13], shape=(6,), dtype=int32)\n",
      "One:  tf.Tensor(1, shape=(), dtype=int32)\n",
      "Primes add one:  tf.Tensor([ 3  4  6  8 12 14], shape=(6,), dtype=int32)\n",
      "Primes doubled:  tf.Tensor([ 4  6 10 14 22 26], shape=(6,), dtype=int32)\n"
     ]
    }
   ],
   "source": [
    "primes = tf.constant([2,3,5,7,11,13], dtype=tf.int32)\n",
    "print(\"Primes: \", primes)\n",
    "one = tf.constant(1, dtype=tf.int32)  # 使用标量\n",
    "print(\"One: \", one)\n",
    "primes_add_one = tf.add(primes, one)\n",
    "print(\"Primes add one: \", primes_add_one)\n",
    "two = tf.constant(2, dtype=tf.int32)  # 使用标量\n",
    "primes_doubled = primes * two\n",
    "print(\"Primes doubled: \", primes_doubled)"
   ]
  },
  {
   "cell_type": "markdown",
   "metadata": {},
   "source": [
    "#### 练习1：矢量运算\n",
    "新建一个矢量new_vector，使得其第i个元素等于primes中第i个元素的平方减1。"
   ]
  },
  {
   "cell_type": "code",
   "execution_count": 5,
   "metadata": {},
   "outputs": [
    {
     "name": "stdout",
     "output_type": "stream",
     "text": [
      "New vector:  tf.Tensor([  3   8  24  48 120 168], shape=(6,), dtype=int32)\n"
     ]
    }
   ],
   "source": [
    "one = tf.constant(1, dtype=tf.int32)\n",
    "new_vector = tf.subtract(tf.pow(primes, 2), one)\n",
    "print('New vector: ', new_vector)"
   ]
  },
  {
   "cell_type": "markdown",
   "metadata": {},
   "source": [
    "### 矩阵乘法\n",
    "在线性代数中，矩阵相乘第一个矩阵的列数需要等于第二个矩阵的行数。"
   ]
  },
  {
   "cell_type": "code",
   "execution_count": 10,
   "metadata": {},
   "outputs": [
    {
     "name": "stdout",
     "output_type": "stream",
     "text": [
      "tf.Tensor(\n",
      "[[-1.4632467  -0.8414625 ]\n",
      " [ 1.6553125   0.20765832]\n",
      " [ 0.38256437 -1.268898  ]], shape=(3, 2), dtype=float32)\n"
     ]
    }
   ],
   "source": [
    "x = tf.constant(tf.random_normal((3,4)))\n",
    "y = tf.constant(tf.random_normal((4,2)))\n",
    "\n",
    "matrix_multiply_result = tf.matmul(x, y)\n",
    "print(matrix_multiply_result)"
   ]
  },
  {
   "cell_type": "markdown",
   "metadata": {},
   "source": [
    "### 张量变形\n",
    "可以使用tf.reshape方法改变张量的形状。"
   ]
  },
  {
   "cell_type": "code",
   "execution_count": 17,
   "metadata": {},
   "outputs": [
    {
     "name": "stdout",
     "output_type": "stream",
     "text": [
      "ori:  [[ 1.4102188  -0.4658734 ]\n",
      " [-0.77698034  0.88839465]\n",
      " [-0.6916417  -0.7781659 ]\n",
      " [-0.10105953 -0.5781191 ]\n",
      " [ 0.731076    0.8738454 ]\n",
      " [-0.09386791  0.90513027]\n",
      " [ 1.257941    0.95576674]\n",
      " [-0.7473931   1.2671598 ]]\n",
      "2x8:  [[ 1.4102188  -0.4658734  -0.77698034  0.88839465 -0.6916417  -0.7781659\n",
      "  -0.10105953 -0.5781191 ]\n",
      " [ 0.731076    0.8738454  -0.09386791  0.90513027  1.257941    0.95576674\n",
      "  -0.7473931   1.2671598 ]]\n",
      "4x4:  [[ 1.4102188  -0.4658734  -0.77698034  0.88839465]\n",
      " [-0.6916417  -0.7781659  -0.10105953 -0.5781191 ]\n",
      " [ 0.731076    0.8738454  -0.09386791  0.90513027]\n",
      " [ 1.257941    0.95576674 -0.7473931   1.2671598 ]]\n",
      "2x2x4 [[[ 1.4102188  -0.4658734  -0.77698034  0.88839465]\n",
      "  [-0.6916417  -0.7781659  -0.10105953 -0.5781191 ]]\n",
      "\n",
      " [[ 0.731076    0.8738454  -0.09386791  0.90513027]\n",
      "  [ 1.257941    0.95576674 -0.7473931   1.2671598 ]]]\n"
     ]
    }
   ],
   "source": [
    "ori_matrix = tf.constant(tf.random_normal((8,2)))\n",
    "reshaped_2x8_matrix = tf.reshape(ori_matrix, (2,8))\n",
    "reshaped_4x4_matrix = tf.reshape(ori_matrix, (4,4))\n",
    "reshaped_2x2x4_matrix = tf.reshape(ori_matrix, (2,2,4))\n",
    "\n",
    "print(\"ori: \", ori_matrix.numpy())\n",
    "print(\"2x8: \", reshaped_2x8_matrix.numpy())\n",
    "print(\"4x4: \", reshaped_4x4_matrix.numpy())\n",
    "print(\"2x2x4\", reshaped_2x2x4_matrix.numpy())"
   ]
  },
  {
   "cell_type": "markdown",
   "metadata": {},
   "source": [
    "### 变量初始化与赋值\n",
    "TF中的Variable对象的值可以更改，需要使用tf.assign()操作，且前后形状一致。"
   ]
  },
  {
   "cell_type": "code",
   "execution_count": 24,
   "metadata": {},
   "outputs": [
    {
     "name": "stdout",
     "output_type": "stream",
     "text": [
      "v:  [2]\n",
      "w:  [[0.81553805 1.0365006  0.7324809  0.6483537 ]]\n",
      "v_new:  [4] , v.assign:  [6]\n"
     ]
    }
   ],
   "source": [
    "v = tf.contrib.eager.Variable([2])\n",
    "w = tf.contrib.eager.Variable(tf.random_normal([1,4], mean=1.0, stddev=0.35))\n",
    "print(\"v: \", v.numpy())\n",
    "print(\"w: \", w.numpy())\n",
    "\n",
    "v_new = tf.assign(v, [4])\n",
    "print(\"v_new: \", v_new.numpy(), \", v.assign: \", v.assign([6]).numpy())"
   ]
  }
 ],
 "metadata": {
  "kernelspec": {
   "display_name": "Python 3",
   "language": "python",
   "name": "python3"
  },
  "language_info": {
   "codemirror_mode": {
    "name": "ipython",
    "version": 3
   },
   "file_extension": ".py",
   "mimetype": "text/x-python",
   "name": "python",
   "nbconvert_exporter": "python",
   "pygments_lexer": "ipython3",
   "version": "3.6.5"
  }
 },
 "nbformat": 4,
 "nbformat_minor": 2
}
