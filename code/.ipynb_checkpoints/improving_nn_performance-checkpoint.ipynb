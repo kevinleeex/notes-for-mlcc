{
 "cells": [
  {
   "cell_type": "markdown",
   "metadata": {},
   "source": [
    "## 提高神经网络的性能\n",
    "**学习目标**：\n",
    "- 根据我们学习到的「最佳实践」来提高神经网络的表现。\n",
    "\n",
    "值得注意的是，本节所学到的优化方法不针对于神经网络，这些方法可以改进大多数类型的模型。"
   ]
  },
  {
   "cell_type": "markdown",
   "metadata": {},
   "source": [
    "### 设置¶\n",
    "加载加州住房数据集。"
   ]
  },
  {
   "cell_type": "code",
   "execution_count": 1,
   "metadata": {},
   "outputs": [
    {
     "name": "stderr",
     "output_type": "stream",
     "text": [
      "/Users/kevin/.virtualenvs/py36/lib/python3.6/importlib/_bootstrap.py:219: RuntimeWarning: compiletime version 3.5 of module 'tensorflow.python.framework.fast_tensor_util' does not match runtime version 3.6\n",
      "  return f(*args, **kwds)\n"
     ]
    }
   ],
   "source": [
    "from __future__ import print_function\n",
    "\n",
    "import math\n",
    "from IPython import display\n",
    "from matplotlib import cm\n",
    "from matplotlib import gridspec\n",
    "from matplotlib import pyplot as plt\n",
    "import numpy as np\n",
    "import pandas as pd\n",
    "from sklearn import metrics\n",
    "import tensorflow as tf\n",
    "from tensorflow.python.data import Dataset\n",
    "\n",
    "tf.logging.set_verbosity(tf.logging.ERROR)\n",
    "pd.options.display.max_rows = 10\n",
    "pd.options.display.float_format = '{:.1f}'.format\n",
    "\n",
    "california_housing_df = pd.read_csv(\"https://download.mlcc.google.cn/mledu-datasets/california_housing_train.csv\",\n",
    "                                   sep=',')\n",
    "california_housing_df = california_housing_df.reindex(np.random.permutation(california_housing_df.index))"
   ]
  },
  {
   "cell_type": "code",
   "execution_count": 2,
   "metadata": {},
   "outputs": [],
   "source": [
    "# 预处理特征\n",
    "def preprocess_features(california_housing_df):\n",
    "    \"\"\"预处理房价的DataFrame，准备输入特征,添加人为特征\n",
    "    Args:\n",
    "        california_housing_df: 包含加州房价数据的df\n",
    "    Returns:\n",
    "        包含处理后特征的DataFrame\n",
    "    \"\"\"\n",
    "    selected_features = california_housing_df[[\"latitude\",\n",
    "     \"longitude\",\n",
    "     \"housing_median_age\",\n",
    "     \"total_rooms\",\n",
    "     \"total_bedrooms\",\n",
    "     \"population\",\n",
    "     \"households\",\n",
    "     \"median_income\"]]\n",
    "    processed_features = selected_features.copy()\n",
    "    # 创建额外的特征\n",
    "    processed_features[\"rooms_per_person\"] = (california_housing_df[\"total_rooms\"] / california_housing_df[\"population\"])\n",
    "    return processed_features\n",
    "\n",
    "# 预处理目标\n",
    "def preprocess_targets(california_housing_df):\n",
    "    \"\"\"从加州房价DataFrame准备目标特征，即标签\n",
    "    Args:\n",
    "        california_housing_dataframe: 包含加州房价数据的df\n",
    "    Returns:\n",
    "        包含目标标签的df\n",
    "    \"\"\"\n",
    "    output_targets = pd.DataFrame()\n",
    "    # 将目标标签的值缩放\n",
    "    output_targets[\"median_house_value\"] = (california_housing_df[\"median_house_value\"] / 1000.0)\n",
    "    return output_targets\n"
   ]
  },
  {
   "cell_type": "code",
   "execution_count": 3,
   "metadata": {},
   "outputs": [
    {
     "name": "stdout",
     "output_type": "stream",
     "text": [
      "Training examples summary:\n"
     ]
    },
    {
     "data": {
      "text/html": [
       "<div>\n",
       "<style scoped>\n",
       "    .dataframe tbody tr th:only-of-type {\n",
       "        vertical-align: middle;\n",
       "    }\n",
       "\n",
       "    .dataframe tbody tr th {\n",
       "        vertical-align: top;\n",
       "    }\n",
       "\n",
       "    .dataframe thead th {\n",
       "        text-align: right;\n",
       "    }\n",
       "</style>\n",
       "<table border=\"1\" class=\"dataframe\">\n",
       "  <thead>\n",
       "    <tr style=\"text-align: right;\">\n",
       "      <th></th>\n",
       "      <th>latitude</th>\n",
       "      <th>longitude</th>\n",
       "      <th>housing_median_age</th>\n",
       "      <th>total_rooms</th>\n",
       "      <th>total_bedrooms</th>\n",
       "      <th>population</th>\n",
       "      <th>households</th>\n",
       "      <th>median_income</th>\n",
       "      <th>rooms_per_person</th>\n",
       "    </tr>\n",
       "  </thead>\n",
       "  <tbody>\n",
       "    <tr>\n",
       "      <th>count</th>\n",
       "      <td>12000.0</td>\n",
       "      <td>12000.0</td>\n",
       "      <td>12000.0</td>\n",
       "      <td>12000.0</td>\n",
       "      <td>12000.0</td>\n",
       "      <td>12000.0</td>\n",
       "      <td>12000.0</td>\n",
       "      <td>12000.0</td>\n",
       "      <td>12000.0</td>\n",
       "    </tr>\n",
       "    <tr>\n",
       "      <th>mean</th>\n",
       "      <td>35.6</td>\n",
       "      <td>-119.6</td>\n",
       "      <td>28.5</td>\n",
       "      <td>2656.6</td>\n",
       "      <td>542.7</td>\n",
       "      <td>1440.8</td>\n",
       "      <td>505.0</td>\n",
       "      <td>3.9</td>\n",
       "      <td>2.0</td>\n",
       "    </tr>\n",
       "    <tr>\n",
       "      <th>std</th>\n",
       "      <td>2.1</td>\n",
       "      <td>2.0</td>\n",
       "      <td>12.6</td>\n",
       "      <td>2169.6</td>\n",
       "      <td>425.4</td>\n",
       "      <td>1169.0</td>\n",
       "      <td>389.1</td>\n",
       "      <td>1.9</td>\n",
       "      <td>1.2</td>\n",
       "    </tr>\n",
       "    <tr>\n",
       "      <th>min</th>\n",
       "      <td>32.5</td>\n",
       "      <td>-124.3</td>\n",
       "      <td>1.0</td>\n",
       "      <td>2.0</td>\n",
       "      <td>2.0</td>\n",
       "      <td>6.0</td>\n",
       "      <td>2.0</td>\n",
       "      <td>0.5</td>\n",
       "      <td>0.0</td>\n",
       "    </tr>\n",
       "    <tr>\n",
       "      <th>25%</th>\n",
       "      <td>33.9</td>\n",
       "      <td>-121.8</td>\n",
       "      <td>18.0</td>\n",
       "      <td>1468.8</td>\n",
       "      <td>299.0</td>\n",
       "      <td>794.0</td>\n",
       "      <td>283.0</td>\n",
       "      <td>2.6</td>\n",
       "      <td>1.5</td>\n",
       "    </tr>\n",
       "    <tr>\n",
       "      <th>50%</th>\n",
       "      <td>34.2</td>\n",
       "      <td>-118.5</td>\n",
       "      <td>29.0</td>\n",
       "      <td>2130.0</td>\n",
       "      <td>435.0</td>\n",
       "      <td>1173.0</td>\n",
       "      <td>410.0</td>\n",
       "      <td>3.6</td>\n",
       "      <td>1.9</td>\n",
       "    </tr>\n",
       "    <tr>\n",
       "      <th>75%</th>\n",
       "      <td>37.7</td>\n",
       "      <td>-118.0</td>\n",
       "      <td>37.0</td>\n",
       "      <td>3185.2</td>\n",
       "      <td>652.0</td>\n",
       "      <td>1736.2</td>\n",
       "      <td>608.0</td>\n",
       "      <td>4.8</td>\n",
       "      <td>2.3</td>\n",
       "    </tr>\n",
       "    <tr>\n",
       "      <th>max</th>\n",
       "      <td>42.0</td>\n",
       "      <td>-114.3</td>\n",
       "      <td>52.0</td>\n",
       "      <td>32627.0</td>\n",
       "      <td>6445.0</td>\n",
       "      <td>35682.0</td>\n",
       "      <td>6082.0</td>\n",
       "      <td>15.0</td>\n",
       "      <td>55.2</td>\n",
       "    </tr>\n",
       "  </tbody>\n",
       "</table>\n",
       "</div>"
      ],
      "text/plain": [
       "       latitude  longitude  housing_median_age  total_rooms  total_bedrooms  \\\n",
       "count   12000.0    12000.0             12000.0      12000.0         12000.0   \n",
       "mean       35.6     -119.6                28.5       2656.6           542.7   \n",
       "std         2.1        2.0                12.6       2169.6           425.4   \n",
       "min        32.5     -124.3                 1.0          2.0             2.0   \n",
       "25%        33.9     -121.8                18.0       1468.8           299.0   \n",
       "50%        34.2     -118.5                29.0       2130.0           435.0   \n",
       "75%        37.7     -118.0                37.0       3185.2           652.0   \n",
       "max        42.0     -114.3                52.0      32627.0          6445.0   \n",
       "\n",
       "       population  households  median_income  rooms_per_person  \n",
       "count     12000.0     12000.0        12000.0           12000.0  \n",
       "mean       1440.8       505.0            3.9               2.0  \n",
       "std        1169.0       389.1            1.9               1.2  \n",
       "min           6.0         2.0            0.5               0.0  \n",
       "25%         794.0       283.0            2.6               1.5  \n",
       "50%        1173.0       410.0            3.6               1.9  \n",
       "75%        1736.2       608.0            4.8               2.3  \n",
       "max       35682.0      6082.0           15.0              55.2  "
      ]
     },
     "metadata": {},
     "output_type": "display_data"
    },
    {
     "name": "stdout",
     "output_type": "stream",
     "text": [
      "Validation examples summary:\n"
     ]
    },
    {
     "data": {
      "text/html": [
       "<div>\n",
       "<style scoped>\n",
       "    .dataframe tbody tr th:only-of-type {\n",
       "        vertical-align: middle;\n",
       "    }\n",
       "\n",
       "    .dataframe tbody tr th {\n",
       "        vertical-align: top;\n",
       "    }\n",
       "\n",
       "    .dataframe thead th {\n",
       "        text-align: right;\n",
       "    }\n",
       "</style>\n",
       "<table border=\"1\" class=\"dataframe\">\n",
       "  <thead>\n",
       "    <tr style=\"text-align: right;\">\n",
       "      <th></th>\n",
       "      <th>latitude</th>\n",
       "      <th>longitude</th>\n",
       "      <th>housing_median_age</th>\n",
       "      <th>total_rooms</th>\n",
       "      <th>total_bedrooms</th>\n",
       "      <th>population</th>\n",
       "      <th>households</th>\n",
       "      <th>median_income</th>\n",
       "      <th>rooms_per_person</th>\n",
       "    </tr>\n",
       "  </thead>\n",
       "  <tbody>\n",
       "    <tr>\n",
       "      <th>count</th>\n",
       "      <td>5000.0</td>\n",
       "      <td>5000.0</td>\n",
       "      <td>5000.0</td>\n",
       "      <td>5000.0</td>\n",
       "      <td>5000.0</td>\n",
       "      <td>5000.0</td>\n",
       "      <td>5000.0</td>\n",
       "      <td>5000.0</td>\n",
       "      <td>5000.0</td>\n",
       "    </tr>\n",
       "    <tr>\n",
       "      <th>mean</th>\n",
       "      <td>35.7</td>\n",
       "      <td>-119.6</td>\n",
       "      <td>28.7</td>\n",
       "      <td>2612.5</td>\n",
       "      <td>531.6</td>\n",
       "      <td>1402.6</td>\n",
       "      <td>492.1</td>\n",
       "      <td>3.9</td>\n",
       "      <td>2.0</td>\n",
       "    </tr>\n",
       "    <tr>\n",
       "      <th>std</th>\n",
       "      <td>2.2</td>\n",
       "      <td>2.0</td>\n",
       "      <td>12.7</td>\n",
       "      <td>2204.4</td>\n",
       "      <td>411.9</td>\n",
       "      <td>1095.1</td>\n",
       "      <td>373.2</td>\n",
       "      <td>1.9</td>\n",
       "      <td>1.2</td>\n",
       "    </tr>\n",
       "    <tr>\n",
       "      <th>min</th>\n",
       "      <td>32.5</td>\n",
       "      <td>-124.3</td>\n",
       "      <td>1.0</td>\n",
       "      <td>8.0</td>\n",
       "      <td>1.0</td>\n",
       "      <td>3.0</td>\n",
       "      <td>1.0</td>\n",
       "      <td>0.5</td>\n",
       "      <td>0.1</td>\n",
       "    </tr>\n",
       "    <tr>\n",
       "      <th>25%</th>\n",
       "      <td>33.9</td>\n",
       "      <td>-121.8</td>\n",
       "      <td>18.0</td>\n",
       "      <td>1441.0</td>\n",
       "      <td>293.0</td>\n",
       "      <td>777.0</td>\n",
       "      <td>277.0</td>\n",
       "      <td>2.5</td>\n",
       "      <td>1.5</td>\n",
       "    </tr>\n",
       "    <tr>\n",
       "      <th>50%</th>\n",
       "      <td>34.3</td>\n",
       "      <td>-118.5</td>\n",
       "      <td>29.0</td>\n",
       "      <td>2121.5</td>\n",
       "      <td>431.0</td>\n",
       "      <td>1151.0</td>\n",
       "      <td>405.5</td>\n",
       "      <td>3.5</td>\n",
       "      <td>1.9</td>\n",
       "    </tr>\n",
       "    <tr>\n",
       "      <th>75%</th>\n",
       "      <td>37.7</td>\n",
       "      <td>-118.0</td>\n",
       "      <td>37.0</td>\n",
       "      <td>3080.2</td>\n",
       "      <td>641.2</td>\n",
       "      <td>1694.0</td>\n",
       "      <td>597.0</td>\n",
       "      <td>4.7</td>\n",
       "      <td>2.3</td>\n",
       "    </tr>\n",
       "    <tr>\n",
       "      <th>max</th>\n",
       "      <td>41.9</td>\n",
       "      <td>-114.6</td>\n",
       "      <td>52.0</td>\n",
       "      <td>37937.0</td>\n",
       "      <td>5471.0</td>\n",
       "      <td>16122.0</td>\n",
       "      <td>5189.0</td>\n",
       "      <td>15.0</td>\n",
       "      <td>41.3</td>\n",
       "    </tr>\n",
       "  </tbody>\n",
       "</table>\n",
       "</div>"
      ],
      "text/plain": [
       "       latitude  longitude  housing_median_age  total_rooms  total_bedrooms  \\\n",
       "count    5000.0     5000.0              5000.0       5000.0          5000.0   \n",
       "mean       35.7     -119.6                28.7       2612.5           531.6   \n",
       "std         2.2        2.0                12.7       2204.4           411.9   \n",
       "min        32.5     -124.3                 1.0          8.0             1.0   \n",
       "25%        33.9     -121.8                18.0       1441.0           293.0   \n",
       "50%        34.3     -118.5                29.0       2121.5           431.0   \n",
       "75%        37.7     -118.0                37.0       3080.2           641.2   \n",
       "max        41.9     -114.6                52.0      37937.0          5471.0   \n",
       "\n",
       "       population  households  median_income  rooms_per_person  \n",
       "count      5000.0      5000.0         5000.0            5000.0  \n",
       "mean       1402.6       492.1            3.9               2.0  \n",
       "std        1095.1       373.2            1.9               1.2  \n",
       "min           3.0         1.0            0.5               0.1  \n",
       "25%         777.0       277.0            2.5               1.5  \n",
       "50%        1151.0       405.5            3.5               1.9  \n",
       "75%        1694.0       597.0            4.7               2.3  \n",
       "max       16122.0      5189.0           15.0              41.3  "
      ]
     },
     "metadata": {},
     "output_type": "display_data"
    },
    {
     "name": "stdout",
     "output_type": "stream",
     "text": [
      "Training targets summary:\n"
     ]
    },
    {
     "data": {
      "text/html": [
       "<div>\n",
       "<style scoped>\n",
       "    .dataframe tbody tr th:only-of-type {\n",
       "        vertical-align: middle;\n",
       "    }\n",
       "\n",
       "    .dataframe tbody tr th {\n",
       "        vertical-align: top;\n",
       "    }\n",
       "\n",
       "    .dataframe thead th {\n",
       "        text-align: right;\n",
       "    }\n",
       "</style>\n",
       "<table border=\"1\" class=\"dataframe\">\n",
       "  <thead>\n",
       "    <tr style=\"text-align: right;\">\n",
       "      <th></th>\n",
       "      <th>median_house_value</th>\n",
       "    </tr>\n",
       "  </thead>\n",
       "  <tbody>\n",
       "    <tr>\n",
       "      <th>count</th>\n",
       "      <td>12000.0</td>\n",
       "    </tr>\n",
       "    <tr>\n",
       "      <th>mean</th>\n",
       "      <td>207.4</td>\n",
       "    </tr>\n",
       "    <tr>\n",
       "      <th>std</th>\n",
       "      <td>115.1</td>\n",
       "    </tr>\n",
       "    <tr>\n",
       "      <th>min</th>\n",
       "      <td>15.0</td>\n",
       "    </tr>\n",
       "    <tr>\n",
       "      <th>25%</th>\n",
       "      <td>120.3</td>\n",
       "    </tr>\n",
       "    <tr>\n",
       "      <th>50%</th>\n",
       "      <td>181.1</td>\n",
       "    </tr>\n",
       "    <tr>\n",
       "      <th>75%</th>\n",
       "      <td>265.9</td>\n",
       "    </tr>\n",
       "    <tr>\n",
       "      <th>max</th>\n",
       "      <td>500.0</td>\n",
       "    </tr>\n",
       "  </tbody>\n",
       "</table>\n",
       "</div>"
      ],
      "text/plain": [
       "       median_house_value\n",
       "count             12000.0\n",
       "mean                207.4\n",
       "std                 115.1\n",
       "min                  15.0\n",
       "25%                 120.3\n",
       "50%                 181.1\n",
       "75%                 265.9\n",
       "max                 500.0"
      ]
     },
     "metadata": {},
     "output_type": "display_data"
    },
    {
     "name": "stdout",
     "output_type": "stream",
     "text": [
      "Validation targets summary:\n"
     ]
    },
    {
     "data": {
      "text/html": [
       "<div>\n",
       "<style scoped>\n",
       "    .dataframe tbody tr th:only-of-type {\n",
       "        vertical-align: middle;\n",
       "    }\n",
       "\n",
       "    .dataframe tbody tr th {\n",
       "        vertical-align: top;\n",
       "    }\n",
       "\n",
       "    .dataframe thead th {\n",
       "        text-align: right;\n",
       "    }\n",
       "</style>\n",
       "<table border=\"1\" class=\"dataframe\">\n",
       "  <thead>\n",
       "    <tr style=\"text-align: right;\">\n",
       "      <th></th>\n",
       "      <th>median_house_value</th>\n",
       "    </tr>\n",
       "  </thead>\n",
       "  <tbody>\n",
       "    <tr>\n",
       "      <th>count</th>\n",
       "      <td>5000.0</td>\n",
       "    </tr>\n",
       "    <tr>\n",
       "      <th>mean</th>\n",
       "      <td>207.0</td>\n",
       "    </tr>\n",
       "    <tr>\n",
       "      <th>std</th>\n",
       "      <td>118.0</td>\n",
       "    </tr>\n",
       "    <tr>\n",
       "      <th>min</th>\n",
       "      <td>15.0</td>\n",
       "    </tr>\n",
       "    <tr>\n",
       "      <th>25%</th>\n",
       "      <td>118.3</td>\n",
       "    </tr>\n",
       "    <tr>\n",
       "      <th>50%</th>\n",
       "      <td>177.8</td>\n",
       "    </tr>\n",
       "    <tr>\n",
       "      <th>75%</th>\n",
       "      <td>263.1</td>\n",
       "    </tr>\n",
       "    <tr>\n",
       "      <th>max</th>\n",
       "      <td>500.0</td>\n",
       "    </tr>\n",
       "  </tbody>\n",
       "</table>\n",
       "</div>"
      ],
      "text/plain": [
       "       median_house_value\n",
       "count              5000.0\n",
       "mean                207.0\n",
       "std                 118.0\n",
       "min                  15.0\n",
       "25%                 118.3\n",
       "50%                 177.8\n",
       "75%                 263.1\n",
       "max                 500.0"
      ]
     },
     "metadata": {},
     "output_type": "display_data"
    }
   ],
   "source": [
    "\n",
    "# 选择前12000/17000用于训练\n",
    "training_examples = preprocess_features(california_housing_df.head(12000))\n",
    "training_targets = preprocess_targets(california_housing_df.head(12000))\n",
    "\n",
    "# 选择最后的5000用于验证\n",
    "validation_examples = preprocess_features(california_housing_df.tail(5000))\n",
    "validation_targets = preprocess_targets(california_housing_df.tail(5000))\n",
    "\n",
    "print(\"Training examples summary:\")\n",
    "display.display(training_examples.describe())\n",
    "print(\"Validation examples summary:\")\n",
    "display.display(validation_examples.describe())\n",
    "\n",
    "print(\"Training targets summary:\")\n",
    "display.display(training_targets.describe())\n",
    "print(\"Validation targets summary:\")\n",
    "display.display(validation_targets.describe())"
   ]
  },
  {
   "cell_type": "markdown",
   "metadata": {},
   "source": [
    "### 构建神经网络\n",
    "使用DNNRegressor类定义。\n",
    "\n",
    "使用hidden_units定义网络结构，是一个整数列表，每一个整数对应一个隐藏层，数值表示节点数。\n",
    "\n",
    "默认情况下，所有隐藏层使用ReLU激活函数，且层间全连接。"
   ]
  },
  {
   "cell_type": "code",
   "execution_count": 4,
   "metadata": {},
   "outputs": [],
   "source": [
    "def my_input_fn(features, targets, batch_size=1,shuffle=True, num_epochs=None):\n",
    "    \"\"\"使用多个特征训练一个线性回归器\n",
    "    Args:\n",
    "        features: 特征的DataFrame\n",
    "        targets: 目标的DataFrame\n",
    "        batch_size: 传递给模型的批大小\n",
    "        shuffle: 是否打乱数据\n",
    "        num_epochs: 数据重复的epochs数\n",
    "    Returns:\n",
    "        下一批数据元组(features, labels)\n",
    "    \"\"\"\n",
    "    # 转换DataFrame到numpy数组\n",
    "    features = {key:np.array(value) for key,value in dict(features).items()}\n",
    "    \n",
    "    # 构建数据集\n",
    "    ds = Dataset.from_tensor_slices((features, targets))\n",
    "    ds = ds.batch(batch_size).repeat(num_epochs)\n",
    "    \n",
    "    # 打乱数据\n",
    "    if shuffle:\n",
    "        ds = ds.shuffle(10000)\n",
    "        \n",
    "    # 返回下一批数据\n",
    "    features, labels = ds.make_one_shot_iterator().get_next()\n",
    "    return features, labels"
   ]
  },
  {
   "cell_type": "code",
   "execution_count": 5,
   "metadata": {},
   "outputs": [],
   "source": [
    "def construct_feature_columns(input_features):\n",
    "    \"\"\"构建特征列\n",
    "    Args:\n",
    "        input_features: 数值特征的名字\n",
    "    Returns:\n",
    "        特征列集\n",
    "    \"\"\"\n",
    "    return set([tf.feature_column.numeric_column(my_feature) for my_feature in input_features])"
   ]
  },
  {
   "cell_type": "code",
   "execution_count": 28,
   "metadata": {},
   "outputs": [],
   "source": [
    "def train_nn_regression_model(\n",
    "                my_optimizer, \n",
    "                steps, \n",
    "                batch_size,\n",
    "                hidden_units,\n",
    "                feature_columns,\n",
    "                training_examples, \n",
    "                training_targets, \n",
    "                validation_examples, \n",
    "                validation_targets):\n",
    "    \"\"\"使用多个特征训练一个线性回归模型\n",
    "    \"\"\"\n",
    "    periods = 10\n",
    "    steps_per_period = steps / periods\n",
    "    \n",
    "    # 定义优化器\n",
    "    my_optimizer = tf.contrib.estimator.clip_gradients_by_norm(my_optimizer, 5.0)\n",
    "    # 创建一个线性回归器\n",
    "    dnn_regressor = tf.estimator.DNNRegressor(feature_columns=feature_columns, \n",
    "                                                    hidden_units=hidden_units,\n",
    "                                                    optimizer=my_optimizer)\n",
    "    \n",
    "    # 创建输入函数\n",
    "    training_input_fn = lambda: my_input_fn(training_examples,training_targets[\"median_house_value\"], batch_size=batch_size)\n",
    "    predict_training_input_fn = lambda: my_input_fn(training_examples, training_targets[\"median_house_value\"], num_epochs=1, shuffle=False)\n",
    "    predict_validation_input_fn = lambda: my_input_fn(validation_examples, validation_targets[\"median_house_value\"], num_epochs=1, shuffle=False)\n",
    "    \n",
    "    # 训练模型，并在每个周期输出loss\n",
    "    print(\"Start training...\")\n",
    "    print(\"RMSE (on training data): \")\n",
    "    training_rmse = []\n",
    "    validation_rmse = []\n",
    "    for period in range(0, periods):\n",
    "        dnn_regressor.train(input_fn=training_input_fn, steps=steps_per_period)\n",
    "        \n",
    "        # 计算预测\n",
    "        training_predictions = dnn_regressor.predict(input_fn=predict_training_input_fn)\n",
    "        training_predictions = np.array([item[\"predictions\"][0] for item in training_predictions])\n",
    "        validation_predictions = dnn_regressor.predict(input_fn=predict_validation_input_fn)\n",
    "        validation_predictions = np.array([item[\"predictions\"][0] for item in validation_predictions])\n",
    "        \n",
    "        # 计算训练和验证的损失\n",
    "        training_root_mean_squared_error = math.sqrt(metrics.mean_squared_error(training_predictions, training_targets))\n",
    "        validation_root_mean_squared_error = math.sqrt(metrics.mean_squared_error(validation_predictions, validation_targets))\n",
    "        \n",
    "        # 输出结果\n",
    "        print(\"period %02d : %.2f\" % (period, training_root_mean_squared_error))\n",
    "        training_rmse.append(training_root_mean_squared_error)\n",
    "        validation_rmse.append(validation_root_mean_squared_error)\n",
    "    print(\"Model training finished!\")\n",
    "    \n",
    "    # 损失随周期变化图\n",
    "    plt.ylabel(\"RMSE\")\n",
    "    plt.xlabel(\"Periods\")\n",
    "    plt.title(\"Root Mean Squared Error via Periods\")\n",
    "    plt.tight_layout()\n",
    "    plt.plot(training_rmse, label=\"training\")\n",
    "    plt.plot(validation_rmse, label=\"validaiton\")\n",
    "    plt.legend()\n",
    "    \n",
    "    print(\"Final RMSE (on training data):   %0.2f\" % training_root_mean_squared_error)\n",
    "    print(\"Final RMSE (on validation data): %0.2f\" % validation_root_mean_squared_error)\n",
    "    \n",
    "    return dnn_regressor, training_rmse, validation_rmse"
   ]
  },
  {
   "cell_type": "code",
   "execution_count": 21,
   "metadata": {},
   "outputs": [
    {
     "name": "stdout",
     "output_type": "stream",
     "text": [
      "Start training...\n",
      "RMSE (on training data): \n",
      "period 00 : 157.81\n",
      "period 01 : 142.82\n",
      "period 02 : 128.01\n",
      "period 03 : 113.46\n",
      "period 04 : 107.17\n",
      "period 05 : 104.65\n",
      "period 06 : 103.57\n",
      "period 07 : 103.22\n",
      "period 08 : 102.16\n",
      "period 09 : 102.16\n",
      "Model training finished!\n",
      "Final RMSE (on training data):   102.16\n",
      "Final RMSE (on validation data): 102.56\n"
     ]
    },
    {
     "data": {
      "image/png": "[encoded data removed]",
      "text/plain": [
       "<Figure size 432x288 with 1 Axes>"
      ]
     },
     "metadata": {
      "needs_background": "light"
     },
     "output_type": "display_data"
    }
   ],
   "source": [
    "_ = train_nn_regression_model(\n",
    "    my_optimizer=tf.train.GradientDescentOptimizer(learning_rate=0.0007),\n",
    "    steps=5000,\n",
    "    batch_size=70,\n",
    "    hidden_units=[10, 10],\n",
    "    feature_columns=construct_feature_columns(training_examples),\n",
    "    training_examples=training_examples,\n",
    "    training_targets=training_targets,\n",
    "    validation_examples=validation_examples,\n",
    "    validation_targets=validation_targets)"
   ]
  },
  {
   "cell_type": "markdown",
   "metadata": {},
   "source": [
    "### 任务1. 使用线性缩放将特征标准化\n",
    "把输入标准化到(-1, 1)之间, 是一种良好的标准做法。这样一来，SGD在一个维度中采用很大的步长，或在另一维度采用很小步长时不会受阻。\n",
    "\n",
    "**注意**：一般来说，当输入特征大致处在相同的范围时，神经网络的训练效果最好。\n"
   ]
  },
  {
   "cell_type": "code",
   "execution_count": 13,
   "metadata": {},
   "outputs": [],
   "source": [
    "# 线性缩放\n",
    "def linear_scale(series):\n",
    "    min_val = series.min()\n",
    "    max_val = series.max()\n",
    "    scale = (max_val-min_val) / 2.0\n",
    "    return series.apply(lambda x: ((x - min_val) / scale) - 1.0)"
   ]
  },
  {
   "cell_type": "code",
   "execution_count": 22,
   "metadata": {},
   "outputs": [],
   "source": [
    "# 标准化线性缩放\n",
    "def normalize_linear_scale(examples_dataframe):\n",
    "    \"\"\"\n",
    "    Returns: 返回所有特征都被标准化的DataFrame\n",
    "    \"\"\"\n",
    "    processed_features = pd.DataFrame()\n",
    "    processed_features[\"latitude\"] = linear_scale(examples_dataframe[\"latitude\"])\n",
    "    processed_features[\"longitude\"] = linear_scale(examples_dataframe[\"longitude\"])\n",
    "    processed_features[\"housing_median_age\"] = linear_scale(examples_dataframe[\"housing_median_age\"])\n",
    "    processed_features[\"total_rooms\"] = linear_scale(examples_dataframe[\"total_rooms\"])\n",
    "    processed_features[\"total_bedrooms\"] = linear_scale(examples_dataframe[\"total_bedrooms\"])\n",
    "    processed_features[\"population\"] = linear_scale(examples_dataframe[\"population\"])\n",
    "    processed_features[\"households\"] = linear_scale(examples_dataframe[\"households\"])\n",
    "    processed_features[\"median_income\"] = linear_scale(examples_dataframe[\"median_income\"])\n",
    "    processed_features[\"rooms_per_person\"] = linear_scale(examples_dataframe[\"rooms_per_person\"])\n",
    "    return processed_features"
   ]
  },
  {
   "cell_type": "code",
   "execution_count": 23,
   "metadata": {},
   "outputs": [
    {
     "name": "stdout",
     "output_type": "stream",
     "text": [
      "Start training...\n",
      "RMSE (on training data): \n",
      "period 00 : 162.15\n",
      "period 01 : 113.53\n",
      "period 02 : 101.85\n",
      "period 03 : 86.19\n",
      "period 04 : 77.03\n",
      "period 05 : 74.08\n",
      "period 06 : 72.59\n",
      "period 07 : 71.64\n",
      "period 08 : 70.87\n",
      "period 09 : 70.42\n",
      "Model training finished!\n",
      "Final RMSE (on training data):   70.42\n",
      "Final RMSE (on validation data): 71.92\n"
     ]
    },
    {
     "data": {
      "image/png": "[encoded data removed]",
      "text/plain": [
       "<Figure size 432x288 with 1 Axes>"
      ]
     },
     "metadata": {
      "needs_background": "light"
     },
     "output_type": "display_data"
    }
   ],
   "source": [
    "normalized_dataframe = normalize_linear_scale(preprocess_features(california_housing_df))\n",
    "normalized_training_examples = normalized_dataframe.head(12000)\n",
    "normalized_validation_examples = normalized_dataframe.tail(5000)\n",
    "\n",
    "_ = train_nn_regression_model(\n",
    "    my_optimizer=tf.train.GradientDescentOptimizer(learning_rate=0.005),\n",
    "    steps=2000,\n",
    "    batch_size=50,\n",
    "    hidden_units=[10, 10],\n",
    "    feature_columns=construct_feature_columns(normalized_training_examples),\n",
    "    training_examples=normalized_training_examples,\n",
    "    training_targets=training_targets,\n",
    "    validation_examples=normalized_validation_examples,\n",
    "    validation_targets=validation_targets)"
   ]
  },
  {
   "cell_type": "markdown",
   "metadata": {},
   "source": [
    "### 任务2. 尝试别的优化器\n",
    "使用AdaGRad 和 Adam优化器并对比效果。\n",
    "\n",
    "> AdaGrad 优化器是一种备选方案。AdaGrad 的**核心**是灵活地修改模型中每个系数的学习率，从而单调降低有效的学习率。该优化器对于**凸优化问题**非常有效，但**不一定适合非凸优化问题**的神经网络训练。我们可以通过指定 ```tf.train.AdagradOptimizer```来使用 AdaGrad。\n",
    ">\n",
    "> 请注意，对于 AdaGrad，我们可能需要使用**较大的学习率**。\n",
    "\n",
    "> 对于**非凸优化问题**，Adam 有时比 AdaGrad 更有效。要使用 Adam，请调用 ```tf.train.AdamOptimizer``` 方法。此方法将几个可选超参数作为参数，但我们的解决方案仅指定其中一个 (learning_rate)。\n",
    ">\n",
    "> 在应用设置中，我们应该谨慎指定和调整可选超参数。"
   ]
  },
  {
   "cell_type": "code",
   "execution_count": 30,
   "metadata": {},
   "outputs": [
    {
     "name": "stdout",
     "output_type": "stream",
     "text": [
      "Start training...\n",
      "RMSE (on training data): \n",
      "period 00 : 79.31\n",
      "period 01 : 72.82\n",
      "period 02 : 74.06\n",
      "period 03 : 70.18\n",
      "period 04 : 69.52\n",
      "period 05 : 68.61\n",
      "period 06 : 68.75\n",
      "period 07 : 68.83\n",
      "period 08 : 70.53\n",
      "period 09 : 67.61\n",
      "Model training finished!\n",
      "Final RMSE (on training data):   67.61\n",
      "Final RMSE (on validation data): 68.37\n"
     ]
    },
    {
     "data": {
      "image/png": "[encoded data removed]",
      "text/plain": [
       "<Figure size 432x288 with 1 Axes>"
      ]
     },
     "metadata": {
      "needs_background": "light"
     },
     "output_type": "display_data"
    }
   ],
   "source": [
    "# AdaGrad优化器\n",
    "_, adagrad_training_losses, adagrad_validation_losses = train_nn_regression_model(\n",
    "    my_optimizer=tf.train.AdagradOptimizer(learning_rate=0.5),\n",
    "    steps=500,\n",
    "    batch_size=100,\n",
    "    hidden_units=[10, 10],\n",
    "    feature_columns=construct_feature_columns(normalized_training_examples),\n",
    "    training_examples=normalized_training_examples,\n",
    "    training_targets=training_targets,\n",
    "    validation_examples=normalized_validation_examples,\n",
    "    validation_targets=validation_targets)\n"
   ]
  },
  {
   "cell_type": "code",
   "execution_count": 31,
   "metadata": {},
   "outputs": [
    {
     "name": "stdout",
     "output_type": "stream",
     "text": [
      "Start training...\n",
      "RMSE (on training data): \n",
      "period 00 : 221.16\n",
      "period 01 : 129.14\n",
      "period 02 : 114.52\n",
      "period 03 : 105.74\n",
      "period 04 : 90.63\n",
      "period 05 : 76.07\n",
      "period 06 : 71.21\n",
      "period 07 : 70.55\n",
      "period 08 : 70.26\n",
      "period 09 : 69.59\n",
      "Model training finished!\n",
      "Final RMSE (on training data):   69.59\n",
      "Final RMSE (on validation data): 70.67\n"
     ]
    },
    {
     "data": {
      "image/png": "[encoded data removed]",
      "text/plain": [
       "<Figure size 432x288 with 1 Axes>"
      ]
     },
     "metadata": {
      "needs_background": "light"
     },
     "output_type": "display_data"
    }
   ],
   "source": [
    "# Adam优化器\n",
    "_, adam_training_losses, adam_validation_losses = train_nn_regression_model(\n",
    "    my_optimizer=tf.train.AdamOptimizer(learning_rate=0.009),\n",
    "    steps=500,\n",
    "    batch_size=100,\n",
    "    hidden_units=[10, 10],\n",
    "    feature_columns=construct_feature_columns(normalized_training_examples),\n",
    "    training_examples=normalized_training_examples,\n",
    "    training_targets=training_targets,\n",
    "    validation_examples=normalized_validation_examples,\n",
    "    validation_targets=validation_targets)"
   ]
  },
  {
   "cell_type": "code",
   "execution_count": 32,
   "metadata": {},
   "outputs": [
    {
     "data": {
      "image/png": "[encoded data removed]",
      "text/plain": [
       "<Figure size 432x288 with 1 Axes>"
      ]
     },
     "metadata": {
      "needs_background": "light"
     },
     "output_type": "display_data"
    }
   ],
   "source": [
    "# 画图对比输出结果\n",
    "plt.ylabel(\"RMSE\")\n",
    "plt.xlabel(\"Periods\")\n",
    "plt.title(\"Root Mean Squared Error vs. Periods\")\n",
    "plt.plot(adagrad_training_losses, label='Adagrad training')\n",
    "plt.plot(adagrad_validation_losses, label='Adagrad validation')\n",
    "plt.plot(adam_training_losses, label='Adam training')\n",
    "plt.plot(adam_validation_losses, label='Adam validation')\n",
    "_ = plt.legend()"
   ]
  },
  {
   "cell_type": "markdown",
   "metadata": {},
   "source": [
    "### 任务3.尝试别的标准化方法\n",
    "- 尝试对各种特征使用别的标准化方法，进一步提高性能。"
   ]
  },
  {
   "cell_type": "code",
   "execution_count": 34,
   "metadata": {},
   "outputs": [
    {
     "data": {
      "image/png": "[encoded data removed]",
      "text/plain": [
       "<Figure size 1296x864 with 9 Axes>"
      ]
     },
     "metadata": {
      "needs_background": "light"
     },
     "output_type": "display_data"
    }
   ],
   "source": [
    "_ = training_examples.hist(bins=20, figsize=(18, 12), xlabelsize=2)"
   ]
  },
  {
   "cell_type": "markdown",
   "metadata": {},
   "source": [
    "从上面的绘图我们可以发现，大量的特征线性缩放后，中位数集中在了靠近-1的位置(-0.8)\n",
    "\n",
    "我们应该考虑对不同的特征使用不同的标准化方式，例如**对数缩放**，**截取极端离群值**等。"
   ]
  },
  {
   "cell_type": "code",
   "execution_count": 35,
   "metadata": {},
   "outputs": [],
   "source": [
    "# log缩放\n",
    "def log_normalize(series):\n",
    "    return series.apply(lambda x:math.log(x+1.0))\n",
    "\n",
    "# 截取极端值\n",
    "def clip(series, clip_to_min, clip_to_max):\n",
    "    return series.apply(lambda x:(min(max(x, clip_to_min), clip_to_max)))\n",
    "\n",
    "# z-score标准化\n",
    "def z_score_normalize(series):\n",
    "    mean = series.mean()\n",
    "    std_dv = series.std()\n",
    "    return series.apply(lambda x:(x - mean) / std_dv)\n",
    "\n",
    "# 阈值二值化\n",
    "def binary_threshold(series, threshold):\n",
    "    return series.apply(lambda x:(1 if x > threshold else 0))"
   ]
  },
  {
   "cell_type": "code",
   "execution_count": 39,
   "metadata": {},
   "outputs": [],
   "source": [
    "def my_normalization(examples_dataframe):\n",
    "    \"\"\"\n",
    "    Returns: 特征标准化后的DataFrame\n",
    "    \"\"\"\n",
    "    processed_features = pd.DataFrame()\n",
    "    # households、median_income 和 total_bedrooms 在对数空间内均呈现为正态分布\n",
    "    processed_features[\"households\"] = log_normalize(examples_dataframe[\"households\"])\n",
    "    processed_features[\"median_income\"] = log_normalize(examples_dataframe[\"median_income\"])\n",
    "    processed_features[\"total_bedrooms\"] = log_normalize(examples_dataframe[\"total_bedrooms\"])\n",
    "\n",
    "    # latitude、longitude 和 housing_median_age 像之前一样进行线性缩放，效果可能会更好\n",
    "    processed_features[\"latitude\"] = linear_scale(examples_dataframe[\"latitude\"])\n",
    "    processed_features[\"longitude\"] = linear_scale(examples_dataframe[\"longitude\"])\n",
    "    processed_features[\"housing_median_age\"] = linear_scale(examples_dataframe[\"housing_median_age\"])\n",
    "\n",
    "    # population、totalRooms 和 rooms_per_person 具有几个极端离群值,我们考虑截断\n",
    "    processed_features[\"population\"] = linear_scale(clip(examples_dataframe[\"population\"], 0, 5000))\n",
    "    processed_features[\"rooms_per_person\"] = linear_scale(clip(examples_dataframe[\"rooms_per_person\"], 0, 5))\n",
    "    processed_features[\"total_rooms\"] = linear_scale(clip(examples_dataframe[\"total_rooms\"], 0, 10000))\n",
    "    \n",
    "    return processed_features"
   ]
  },
  {
   "cell_type": "code",
   "execution_count": 40,
   "metadata": {},
   "outputs": [
    {
     "name": "stdout",
     "output_type": "stream",
     "text": [
      "Start training...\n",
      "RMSE (on training data): \n",
      "period 00 : 86.44\n",
      "period 01 : 74.21\n",
      "period 02 : 72.04\n",
      "period 03 : 71.31\n",
      "period 04 : 69.98\n",
      "period 05 : 70.17\n",
      "period 06 : 70.46\n",
      "period 07 : 68.63\n",
      "period 08 : 67.90\n",
      "period 09 : 67.99\n",
      "Model training finished!\n",
      "Final RMSE (on training data):   67.99\n",
      "Final RMSE (on validation data): 67.99\n"
     ]
    },
    {
     "data": {
      "image/png": "[encoded data removed]",
      "text/plain": [
       "<Figure size 432x288 with 1 Axes>"
      ]
     },
     "metadata": {
      "needs_background": "light"
     },
     "output_type": "display_data"
    }
   ],
   "source": [
    "normalized_dataframe = my_normalization(preprocess_features(california_housing_df))\n",
    "normalized_training_examples = normalized_dataframe.head(12000)\n",
    "normalized_validation_examples = normalized_dataframe.tail(5000)\n",
    "\n",
    "_ = train_nn_regression_model(\n",
    "    my_optimizer=tf.train.AdagradOptimizer(learning_rate=0.15),\n",
    "    steps=1000,\n",
    "    batch_size=50,\n",
    "    hidden_units=[10, 10],\n",
    "    feature_columns=construct_feature_columns(normalized_training_examples),\n",
    "    training_examples=normalized_training_examples,\n",
    "    training_targets=training_targets,\n",
    "    validation_examples=normalized_validation_examples,\n",
    "    validation_targets=validation_targets)"
   ]
  },
  {
   "cell_type": "markdown",
   "metadata": {},
   "source": [
    "### 任务4.仅使用经度和纬度来预测房价\n",
    "> 房地产商喜欢说，地段是房价的唯一重要特征。\n",
    "\n",
    "我们可以通过仅使用经度和纬度作为输入特征来构建神经网络验证这一点。\n"
   ]
  },
  {
   "cell_type": "code",
   "execution_count": 41,
   "metadata": {},
   "outputs": [],
   "source": [
    "def location_features(examples_dataframe):\n",
    "    \"\"\"\n",
    "    Returns: \n",
    "        仅包括经度和纬度(longitude and latitude)特征的DataFrame\n",
    "    \"\"\"\n",
    "    processed_features = pd.DataFrame()\n",
    "    processed_features[\"longitude\"] = linear_scale(examples_dataframe[\"longitude\"])\n",
    "    processed_features[\"latitude\"] = linear_scale(examples_dataframe[\"latitude\"])\n",
    "    return processed_features"
   ]
  },
  {
   "cell_type": "code",
   "execution_count": 44,
   "metadata": {},
   "outputs": [
    {
     "name": "stdout",
     "output_type": "stream",
     "text": [
      "Start training...\n",
      "RMSE (on training data): \n",
      "period 00 : 236.65\n",
      "period 01 : 236.09\n",
      "period 02 : 155.78\n",
      "period 03 : 108.10\n",
      "period 04 : 105.94\n",
      "period 05 : 103.03\n",
      "period 06 : 101.48\n",
      "period 07 : 100.71\n",
      "period 08 : 100.03\n",
      "period 09 : 99.61\n",
      "Model training finished!\n",
      "Final RMSE (on training data):   99.61\n",
      "Final RMSE (on validation data): 101.68\n"
     ]
    },
    {
     "data": {
      "image/png": "[encoded data removed]",
      "text/plain": [
       "<Figure size 432x288 with 1 Axes>"
      ]
     },
     "metadata": {
      "needs_background": "light"
     },
     "output_type": "display_data"
    }
   ],
   "source": [
    "location_df = location_features(preprocess_features(california_housing_df))\n",
    "location_training_examples = location_df.head(12000)\n",
    "location_validation_examples = location_df.tail(5000)\n",
    "\n",
    "_ = train_nn_regression_model(\n",
    "    my_optimizer=tf.train.AdagradOptimizer(learning_rate=0.05),\n",
    "    steps=500,\n",
    "    batch_size=50,\n",
    "    hidden_units=[10,10,5,5,5],\n",
    "    feature_columns=construct_feature_columns(location_training_examples),\n",
    "    training_examples=location_training_examples,\n",
    "    training_targets=training_targets,\n",
    "    validation_examples=location_validation_examples,\n",
    "    validation_targets=validation_targets)"
   ]
  },
  {
   "cell_type": "markdown",
   "metadata": {},
   "source": [
    "**值得注意的是**，虽然我们只使用了两个特征，但是我们仍然取得了较之前的线性回归模型更好的结果，而且房价在更短距离上也可能有较大差异。"
   ]
  },
  {
   "cell_type": "code",
   "execution_count": null,
   "metadata": {},
   "outputs": [],
   "source": []
  }
 ],
 "metadata": {
  "kernelspec": {
   "display_name": "Python 3",
   "language": "python",
   "name": "python3"
  },
  "language_info": {
   "codemirror_mode": {
    "name": "ipython",
    "version": 3
   },
   "file_extension": ".py",
   "mimetype": "text/x-python",
   "name": "python",
   "nbconvert_exporter": "python",
   "pygments_lexer": "ipython3",
   "version": "3.6.5"
  }
 },
 "nbformat": 4,
 "nbformat_minor": 2
}
