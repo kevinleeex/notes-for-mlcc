{
 "cells": [
  {
   "cell_type": "markdown",
   "metadata": {},
   "source": [
    "## TensorFlow 编程概念\n",
    "**学习目标**\n",
    " - 学习TensorFlow编程的模型的重点知识，重点了解以下几个概念：\n",
    "  - 张量(Tensor)\n",
    "  - 指令(Operations)\n",
    "  - 图(Graph)\n",
    "  - 会话(Session)\n",
    " - 构建一个简单的TensorFlow程序，使用该程序绘制一个默认图并创建一个运行图的会话。\n",
    " "
   ]
  },
  {
   "cell_type": "markdown",
   "metadata": {},
   "source": [
    "### 概念解释\n",
    "#### 张量\n",
    "TensorFlow的名称源自**张量**，张量是任意维度的数组。大多数情况下，我们会使用低维张量：\n",
    " - 标量是零维数组 (零阶张量)，e.g. 'Kevin' or 5\n",
    " - 矢量是一维数组 (一阶张量)，e.g. [2, 3, 4, 5] or [5]\n",
    " - 矩阵是二维数组 (二阶张量)，e.g. [[1.1, 2.2, 3.3], [4.4, 5.5, 6.6]]\n",
    " \n",
    "#### 指令\n",
    "TensorFlow中大多数行大都是指令，用于创建、销毁和操控张量。\n",
    " \n",
    "#### 图\n",
    "也称**计算图或数据流图**，TensorFlow程序可以选择创建多个图，图的节点是**指令**，图的边是**张量**。张量流经图，在每个节点由一个指令操控。一个指令的输出张量通常会变成后续指令的输入张量。TensorFlow 会实现延迟执行模型，意味着系统仅会根据相关节点的需求在需要时计算节点。\n",
    " \n",
    "张量可以作为常量或变量存储在图中。**常量**存储的是值不会发生更改的张量，而**变量**存储的是值会发生更改的张量。不过，常量和变量都只是图中的一种指令。常量是始终会返回同一张量值的指令。变量是会返回分配给它的任何张量的指令。"
   ]
  },
  {
   "cell_type": "code",
   "execution_count": 1,
   "metadata": {},
   "outputs": [
    {
     "name": "stderr",
     "output_type": "stream",
     "text": [
      "/Users/kevin/.virtualenvs/py36/lib/python3.6/importlib/_bootstrap.py:219: RuntimeWarning: compiletime version 3.5 of module 'tensorflow.python.framework.fast_tensor_util' does not match runtime version 3.6\n",
      "  return f(*args, **kwds)\n"
     ]
    },
    {
     "name": "stdout",
     "output_type": "stream",
     "text": [
      "Output: [5]\n"
     ]
    }
   ],
   "source": [
    "import tensorflow as tf\n",
    "x = tf.constant([2.2])  # 创建常量\n",
    "y = tf.Variable([5])  # 创建变量\n",
    "\n",
    "y2 = tf.Variable([0])  # 先定义\n",
    "y2 = y2.assign([5])  # 再赋值\n",
    "\n",
    "# 图要在会话里运行\n",
    "with tf.Session() as sess:\n",
    "    initialization = tf.global_variables_initializer()\n",
    "    print(\"Output: {}\".format(y2.eval()))\n"
   ]
  },
  {
   "cell_type": "markdown",
   "metadata": {},
   "source": [
    "## 总结\n",
    "TensorFlow的使用可以分为两步：\n",
    "1. 组装**常量**，**变量**，和**指令**到**图**中。\n",
    "2. 在一个会话中Eval这些东西。"
   ]
  },
  {
   "cell_type": "markdown",
   "metadata": {},
   "source": [
    "## 创建一个简单的TensorFlow程序\n",
    "> 编写一个两数相加程序\n",
    "\n",
    "### 导入常用重要的库"
   ]
  },
  {
   "cell_type": "code",
   "execution_count": 2,
   "metadata": {},
   "outputs": [],
   "source": [
    "import tensorflow as tf\n",
    "import matplotlib.pyplot as plt  # 可视化数据库\n",
    "import numpy as np  # 低阶数学运算库\n",
    "import pandas as pd  # 高阶数学运算库"
   ]
  },
  {
   "cell_type": "markdown",
   "metadata": {},
   "source": [
    "TensorFlow会提供**默认图**，但是我们建议明确地创建我们自己的图。"
   ]
  },
  {
   "cell_type": "code",
   "execution_count": 3,
   "metadata": {},
   "outputs": [
    {
     "name": "stdout",
     "output_type": "stream",
     "text": [
      "Output: 13\n"
     ]
    }
   ],
   "source": [
    "g = tf.Graph()  # 创建图\n",
    "\n",
    "with g.as_default():\n",
    "    # 组装图\n",
    "    x = tf.constant(8, name=\"x_const\")\n",
    "    y = tf.constant(5, name=\"y_const\")\n",
    "    kl_sum = tf.add(x, y ,name=\"x_y_sum\")\n",
    "    \n",
    "    # 建立会话\n",
    "    with tf.Session() as sess:\n",
    "        print(\"Output: %d\" % kl_sum.eval())"
   ]
  },
  {
   "cell_type": "markdown",
   "metadata": {},
   "source": [
    "#### 练习：引入第三个运算元\n",
    "修改上面的代码，添加第三个整数\n",
    " 1. 定义第三个标量整形常数z，赋值为4\n",
    " 2. 添加z到kl_sum得到一个新的求和\n",
    " 3. 重新运行"
   ]
  },
  {
   "cell_type": "code",
   "execution_count": 4,
   "metadata": {},
   "outputs": [
    {
     "name": "stdout",
     "output_type": "stream",
     "text": [
      "Output: 17\n"
     ]
    }
   ],
   "source": [
    "g = tf.Graph()\n",
    "\n",
    "with g.as_default():\n",
    "    x = tf.constant(8, name=\"x_const\")\n",
    "    y = tf.constant(5, name=\"y_const\")\n",
    "    kl_sum = tf.add(x, y, name=\"x_y_sum\")\n",
    "    \n",
    "    z = tf.constant(4, name=\"z_cosnt\")\n",
    "    kl2_sum = tf.add(kl_sum, z, name=\"kl_sum_z_sum\")\n",
    "    \n",
    "    with tf.Session() as sess:\n",
    "        print(\"Output: %d\" % kl2_sum.eval())"
   ]
  },
  {
   "cell_type": "markdown",
   "metadata": {},
   "source": [
    "## 曼德尔布罗特 集合(Mandelbrot Set)\n",
    "可视化这个集合与机器学习并没有关系，但是可以作为一个学习使用TF进行数学运算的有趣的例子。"
   ]
  },
  {
   "cell_type": "code",
   "execution_count": 5,
   "metadata": {},
   "outputs": [
    {
     "data": {
      "image/jpeg": "[encoded data removed]",
      "text/plain": [
       "<IPython.core.display.Image object>"
      ]
     },
     "metadata": {},
     "output_type": "display_data"
    }
   ],
   "source": [
    "import tensorflow as tf\n",
    "import numpy as np\n",
    "\n",
    "import PIL.Image\n",
    "from io import BytesIO\n",
    "from IPython.display import Image, display\n",
    "\n",
    "def DisplayFractal(a, fmt='jpeg'):\n",
    "    \"\"\"显示一个迭代数组计数作为一个多彩的分形图片\"\"\"\n",
    "    a_cyclic = (6.28*a/20.0).reshape(list(a.shape)+[1])\n",
    "    img = np.concatenate([10+20*np.cos(a_cyclic), 30+50*np.sin(a_cyclic), 155-80*np.cos(a_cyclic)], 2)\n",
    "    img[a==a.max()] = 0\n",
    "    a = img\n",
    "    a = np.uint8(np.clip(a, 0, 255))\n",
    "    f = BytesIO()\n",
    "    PIL.Image.fromarray(a).save(f, fmt)\n",
    "    display(Image(data=f.getvalue()))\n",
    "    \n",
    "sess =tf.InteractiveSession()\n",
    "\n",
    "Y, X = np.mgrid[-1.3:1.3:0.005, -2:1:0.005]\n",
    "Z = X+1j*Y\n",
    "\n",
    "xs = tf.constant(Z.astype(np.complex64))\n",
    "zs = tf.Variable(xs)\n",
    "ns = tf.Variable(tf.zeros_like(xs, tf.float32))\n",
    "\n",
    "tf.global_variables_initializer().run()\n",
    "\n",
    "zs_ = zs*zs +xs\n",
    "\n",
    "not_diverged = tf.abs(zs_) < 4\n",
    "\n",
    "step = tf.group(zs.assign(zs_), ns.assign_add(tf.cast(not_diverged, tf.float32)))\n",
    "\n",
    "for i in range(200): \n",
    "    step.run()\n",
    "\n",
    "DisplayFractal(ns.eval())"
   ]
  }
 ],
 "metadata": {
  "kernelspec": {
   "display_name": "Python 3",
   "language": "python",
   "name": "python3"
  },
  "language_info": {
   "codemirror_mode": {
    "name": "ipython",
    "version": 3
   },
   "file_extension": ".py",
   "mimetype": "text/x-python",
   "name": "python",
   "nbconvert_exporter": "python",
   "pygments_lexer": "ipython3",
   "version": "3.6.5"
  }
 },
 "nbformat": 4,
 "nbformat_minor": 2
}
